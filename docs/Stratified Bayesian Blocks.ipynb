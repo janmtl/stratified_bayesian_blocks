{
 "cells": [
  {
   "cell_type": "code",
   "execution_count": 7,
   "metadata": {
    "collapsed": false
   },
   "outputs": [],
   "source": [
    "from astroML.density_estimation import bayesian_blocks\n",
    "import numpy as np"
   ]
  },
  {
   "cell_type": "markdown",
   "metadata": {},
   "source": [
    "Stratified Bayesian Blocks applies, to each strata, these two functions"
   ]
  },
  {
   "cell_type": "code",
   "execution_count": 51,
   "metadata": {
    "collapsed": true
   },
   "outputs": [],
   "source": [
    "def _regularize(x):\n",
    "    r, s = np.unique(x, return_counts=True)\n",
    "    s = (np.log(s)+1).astype(int)\n",
    "    y = np.repeat(r, s)\n",
    "    return y\n",
    "\n",
    "def _normalize(x):\n",
    "    r, s = np.unique(x, return_counts=True)\n",
    "    s = (s - np.min(s)+1).astype(int)\n",
    "    y = np.repeat(r, s)\n",
    "    return y"
   ]
  },
  {
   "cell_type": "markdown",
   "metadata": {},
   "source": [
    "First let's generate some mixed data:"
   ]
  },
  {
   "cell_type": "code",
   "execution_count": 52,
   "metadata": {
    "collapsed": true
   },
   "outputs": [],
   "source": [
    "r = np.random.randn(200)\n",
    "s = np.random.exponential(50, 200).astype(int)\n",
    "x = np.repeat(r, s)"
   ]
  },
  {
   "cell_type": "markdown",
   "metadata": {},
   "source": [
    "Create strata from the data"
   ]
  },
  {
   "cell_type": "code",
   "execution_count": 53,
   "metadata": {
    "collapsed": false
   },
   "outputs": [],
   "source": [
    "r, s = np.unique(x, return_counts=True)\n",
    "strata_edges = np.r_[[0], bayesian_blocks(s, p0=0.01)]\n",
    "strata_bins = zip(strata_edges[:-1], strata_edges[1:])"
   ]
  },
  {
   "cell_type": "markdown",
   "metadata": {},
   "source": [
    "Assign each unique value to a specific strata based on its repetition value"
   ]
  },
  {
   "cell_type": "code",
   "execution_count": 60,
   "metadata": {
    "collapsed": false
   },
   "outputs": [],
   "source": [
    "bins = []\n",
    "for strata_bin in strata_bins:\n",
    "    sel = (strata_bin[0] < s) & (s <= strata_bin[1])\n",
    "    strata_data = np.repeat(r[sel], s[sel])\n",
    "    strata_data = _regularize(_normalize(strata_data))\n",
    "    edges = bayesian_blocks(strata_data, p0=0.01)\n",
    "    bins.append(edges)\n",
    "all_bins = np.sort(np.concatenate(bins))"
   ]
  },
  {
   "cell_type": "code",
   "execution_count": 62,
   "metadata": {
    "collapsed": false
   },
   "outputs": [],
   "source": [
    "x = all_bins"
   ]
  },
  {
   "cell_type": "code",
   "execution_count": 65,
   "metadata": {
    "collapsed": false
   },
   "outputs": [],
   "source": []
  },
  {
   "cell_type": "code",
   "execution_count": 67,
   "metadata": {
    "collapsed": false
   },
   "outputs": [
    {
     "name": "stderr",
     "output_type": "stream",
     "text": [
      "/Users/yan/.miniconda/lib/python2.7/site-packages/ipykernel/__main__.py:1: VisibleDeprecationWarning: boolean index did not match indexed array along dimension 0; dimension is 20 but corresponding boolean dimension is 19\n",
      "  if __name__ == '__main__':\n"
     ]
    },
    {
     "data": {
      "text/plain": [
       "array([-2.53909198, -2.32129191, -1.96451601, -1.26835984, -1.16240205,\n",
       "       -1.00597265, -0.645399  , -0.19460884,  0.54710469,  0.78394997,\n",
       "        0.94004641,  1.19940454,  2.01518846])"
      ]
     },
     "execution_count": 67,
     "metadata": {},
     "output_type": "execute_result"
    }
   ],
   "source": [
    "x[~sel]"
   ]
  },
  {
   "cell_type": "code",
   "execution_count": null,
   "metadata": {
    "collapsed": true
   },
   "outputs": [],
   "source": []
  }
 ],
 "metadata": {
  "kernelspec": {
   "display_name": "Python 2",
   "language": "python",
   "name": "python2"
  },
  "language_info": {
   "codemirror_mode": {
    "name": "ipython",
    "version": 2
   },
   "file_extension": ".py",
   "mimetype": "text/x-python",
   "name": "python",
   "nbconvert_exporter": "python",
   "pygments_lexer": "ipython2",
   "version": "2.7.10"
  }
 },
 "nbformat": 4,
 "nbformat_minor": 0
}
