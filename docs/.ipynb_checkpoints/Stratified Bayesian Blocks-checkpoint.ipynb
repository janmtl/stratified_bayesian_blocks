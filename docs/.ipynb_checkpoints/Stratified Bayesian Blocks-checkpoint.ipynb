{
 "cells": [
  {
   "cell_type": "code",
   "execution_count": 7,
   "metadata": {
    "collapsed": false
   },
   "outputs": [],
   "source": [
    "from astroML.density_estimation import bayesian_blocks\n",
    "import numpy as np"
   ]
  },
  {
   "cell_type": "markdown",
   "metadata": {},
   "source": [
    "Stratified Bayesian Blocks applies, to each strata, these two functions"
   ]
  },
  {
   "cell_type": "code",
   "execution_count": 45,
   "metadata": {
    "collapsed": true
   },
   "outputs": [],
   "source": [
    "def _regularize(x):\n",
    "    r, s = np.unique(x, return_counts=True)\n",
    "    s = (np.log(s)+1).astype(int)\n",
    "    y = np.repeat(r, s)\n",
    "    return y\n",
    "\n",
    "def _normalize(x):\n",
    "    r, s = np.unique(x, return_counts=True)\n",
    "    s = (s - np.min(s)).astype(int)\n",
    "    y = np.repeat(r, s)\n",
    "    return y"
   ]
  },
  {
   "cell_type": "markdown",
   "metadata": {},
   "source": [
    "First let's generate some mixed data:"
   ]
  },
  {
   "cell_type": "code",
   "execution_count": 13,
   "metadata": {
    "collapsed": true
   },
   "outputs": [],
   "source": [
    "r = np.random.randn(200)\n",
    "s = np.random.exponential(50, 200).astype(int)\n",
    "x = np.repeat(r, s)"
   ]
  },
  {
   "cell_type": "markdown",
   "metadata": {},
   "source": [
    "Create strata from the data"
   ]
  },
  {
   "cell_type": "code",
   "execution_count": 42,
   "metadata": {
    "collapsed": false
   },
   "outputs": [],
   "source": [
    "r, s = np.unique(x, return_counts=True)\n",
    "strata_edges = np.r_[[0], bayesian_blocks(s, p0=0.01)]\n",
    "strata_bins = zip(strata_edges[:-1], strata_edges[1:])"
   ]
  },
  {
   "cell_type": "markdown",
   "metadata": {},
   "source": [
    "Assign each unique value to a specific strata based on its repetition value"
   ]
  },
  {
   "cell_type": "code",
   "execution_count": 47,
   "metadata": {
    "collapsed": false
   },
   "outputs": [
    {
     "data": {
      "text/plain": [
       "array([ 2,  2,  2,  3,  3,  3,  3,  3,  3,  4,  4,  4,  4,  4,  5,  5,  6,\n",
       "        6,  6,  6,  6,  6,  6,  7,  7,  7,  8,  8,  8,  8,  8,  9,  9,  9,\n",
       "        9,  9, 10, 10, 11, 11, 11, 12, 12, 13, 13, 13, 13, 14, 14, 14, 15,\n",
       "       15, 15, 15, 16, 16, 17, 17, 17, 18, 19, 19, 19, 20, 20, 21, 21, 22,\n",
       "       22, 23, 24, 25, 25, 25, 25, 26, 27, 27, 27, 28, 28, 28, 28, 28, 29,\n",
       "       29, 30, 30, 31, 31, 31, 31, 32, 32, 32, 33, 33, 33, 33, 33, 34, 34,\n",
       "       34])"
      ]
     },
     "execution_count": 47,
     "metadata": {},
     "output_type": "execute_result"
    }
   ],
   "source": [
    "_normalize(s[sel])"
   ]
  },
  {
   "cell_type": "code",
   "execution_count": 46,
   "metadata": {
    "collapsed": false
   },
   "outputs": [
    {
     "ename": "ValueError",
     "evalue": "operands could not be broadcast together with shape (103,) (53,)",
     "output_type": "error",
     "traceback": [
      "\u001b[0;31m---------------------------------------------------------------------------\u001b[0m",
      "\u001b[0;31mValueError\u001b[0m                                Traceback (most recent call last)",
      "\u001b[0;32m<ipython-input-46-3fec22b6467b>\u001b[0m in \u001b[0;36m<module>\u001b[0;34m()\u001b[0m\n\u001b[1;32m      4\u001b[0m     \u001b[0mstrata_r\u001b[0m \u001b[0;34m=\u001b[0m \u001b[0mr\u001b[0m\u001b[0;34m[\u001b[0m\u001b[0msel\u001b[0m\u001b[0;34m]\u001b[0m\u001b[0;34m\u001b[0m\u001b[0m\n\u001b[1;32m      5\u001b[0m     \u001b[0mstrata_s\u001b[0m \u001b[0;34m=\u001b[0m \u001b[0m_regularize\u001b[0m\u001b[0;34m(\u001b[0m\u001b[0m_normalize\u001b[0m\u001b[0;34m(\u001b[0m\u001b[0ms\u001b[0m\u001b[0;34m[\u001b[0m\u001b[0msel\u001b[0m\u001b[0;34m]\u001b[0m\u001b[0;34m)\u001b[0m\u001b[0;34m)\u001b[0m\u001b[0;34m\u001b[0m\u001b[0m\n\u001b[0;32m----> 6\u001b[0;31m     \u001b[0mstrata_data\u001b[0m \u001b[0;34m=\u001b[0m \u001b[0mnp\u001b[0m\u001b[0;34m.\u001b[0m\u001b[0mrepeat\u001b[0m\u001b[0;34m(\u001b[0m\u001b[0mstrata_r\u001b[0m\u001b[0;34m,\u001b[0m \u001b[0mstrata_s\u001b[0m\u001b[0;34m)\u001b[0m\u001b[0;34m\u001b[0m\u001b[0m\n\u001b[0m\u001b[1;32m      7\u001b[0m     \u001b[0medges\u001b[0m \u001b[0;34m=\u001b[0m \u001b[0mbayesian_blocks\u001b[0m\u001b[0;34m(\u001b[0m\u001b[0mstrata_data\u001b[0m\u001b[0;34m,\u001b[0m \u001b[0mp0\u001b[0m\u001b[0;34m=\u001b[0m\u001b[0;36m0.01\u001b[0m\u001b[0;34m)\u001b[0m\u001b[0;34m\u001b[0m\u001b[0m\n\u001b[1;32m      8\u001b[0m     \u001b[0mbins\u001b[0m\u001b[0;34m.\u001b[0m\u001b[0mappend\u001b[0m\u001b[0;34m(\u001b[0m\u001b[0medges\u001b[0m\u001b[0;34m)\u001b[0m\u001b[0;34m\u001b[0m\u001b[0m\n",
      "\u001b[0;32m/Users/yan/.miniconda/lib/python2.7/site-packages/numpy/core/fromnumeric.pyc\u001b[0m in \u001b[0;36mrepeat\u001b[0;34m(a, repeats, axis)\u001b[0m\n\u001b[1;32m    395\u001b[0m     \u001b[0;32mexcept\u001b[0m \u001b[0mAttributeError\u001b[0m\u001b[0;34m:\u001b[0m\u001b[0;34m\u001b[0m\u001b[0m\n\u001b[1;32m    396\u001b[0m         \u001b[0;32mreturn\u001b[0m \u001b[0m_wrapit\u001b[0m\u001b[0;34m(\u001b[0m\u001b[0ma\u001b[0m\u001b[0;34m,\u001b[0m \u001b[0;34m'repeat'\u001b[0m\u001b[0;34m,\u001b[0m \u001b[0mrepeats\u001b[0m\u001b[0;34m,\u001b[0m \u001b[0maxis\u001b[0m\u001b[0;34m)\u001b[0m\u001b[0;34m\u001b[0m\u001b[0m\n\u001b[0;32m--> 397\u001b[0;31m     \u001b[0;32mreturn\u001b[0m \u001b[0mrepeat\u001b[0m\u001b[0;34m(\u001b[0m\u001b[0mrepeats\u001b[0m\u001b[0;34m,\u001b[0m \u001b[0maxis\u001b[0m\u001b[0;34m)\u001b[0m\u001b[0;34m\u001b[0m\u001b[0m\n\u001b[0m\u001b[1;32m    398\u001b[0m \u001b[0;34m\u001b[0m\u001b[0m\n\u001b[1;32m    399\u001b[0m \u001b[0;34m\u001b[0m\u001b[0m\n",
      "\u001b[0;31mValueError\u001b[0m: operands could not be broadcast together with shape (103,) (53,)"
     ]
    }
   ],
   "source": [
    "bins = []\n",
    "for strata_bin in strata_bins:\n",
    "    sel = (strata_bin[0] < s) & (s <= strata_bin[1])\n",
    "    strata_r = r[sel]\n",
    "    strata_s = _regularize(_normalize(s[sel]))\n",
    "    strata_data = np.repeat(strata_r, strata_s)\n",
    "    edges = bayesian_blocks(strata_data, p0=0.01)\n",
    "    bins.append(edges)\n",
    "all_bins = np.sort(np.concatenate(bins))"
   ]
  },
  {
   "cell_type": "code",
   "execution_count": 41,
   "metadata": {
    "collapsed": false
   },
   "outputs": [
    {
     "data": {
      "text/plain": [
       "array([-2.40324551, -2.30690627, -1.65892416, -1.62464976, -1.35422216,\n",
       "       -1.28706761, -1.27399492, -1.24020405, -1.19477176, -1.18972609,\n",
       "       -1.13514074, -1.12489868, -1.05575173, -1.03251037, -1.02472887,\n",
       "       -0.92947143, -0.89551862, -0.8227807 , -0.78538658, -0.74694884,\n",
       "       -0.74266607, -0.7394535 , -0.68013059, -0.65972796, -0.63588888,\n",
       "       -0.63039773, -0.59628212, -0.59392021, -0.57372812, -0.5173305 ,\n",
       "       -0.46840705, -0.35787289, -0.34198102, -0.31209231, -0.30112332,\n",
       "       -0.29908295, -0.29897304, -0.23814971, -0.19386794, -0.1606975 ,\n",
       "       -0.14373757, -0.12805802, -0.11620914, -0.10946014, -0.02585517,\n",
       "        0.00839633,  0.09478204,  0.11474169,  0.12434148,  0.12779091,\n",
       "        0.15541936,  0.17826079,  0.18331901,  0.32353081,  0.33905552,\n",
       "        0.42957049,  0.44765172,  0.46822285,  0.48838045,  0.54699719,\n",
       "        0.54838127,  0.59884903,  0.61664944,  0.6216037 ,  0.6243246 ,\n",
       "        0.67936296,  0.69142141,  0.70461342,  0.72664443,  0.76578848,\n",
       "        0.87166419,  0.87639463,  0.89926902,  0.91921815,  1.0139909 ,\n",
       "        1.02336653,  1.06647903,  1.1084609 ,  1.1621217 ,  1.17561463,\n",
       "        1.20964108,  1.21745028,  1.23964804,  1.34026531,  1.35727407,\n",
       "        1.40637723,  1.44704675,  1.5871829 ,  1.68728976,  1.76511853,\n",
       "        1.79792985,  1.85699903,  1.99904719,  2.1394207 ,  2.67118168,\n",
       "        2.70262445])"
      ]
     },
     "execution_count": 41,
     "metadata": {},
     "output_type": "execute_result"
    }
   ],
   "source": [
    "all_bins"
   ]
  },
  {
   "cell_type": "code",
   "execution_count": null,
   "metadata": {
    "collapsed": true
   },
   "outputs": [],
   "source": []
  }
 ],
 "metadata": {
  "kernelspec": {
   "display_name": "Python 2",
   "language": "python",
   "name": "python2"
  },
  "language_info": {
   "codemirror_mode": {
    "name": "ipython",
    "version": 2
   },
   "file_extension": ".py",
   "mimetype": "text/x-python",
   "name": "python",
   "nbconvert_exporter": "python",
   "pygments_lexer": "ipython2",
   "version": "2.7.10"
  }
 },
 "nbformat": 4,
 "nbformat_minor": 0
}
